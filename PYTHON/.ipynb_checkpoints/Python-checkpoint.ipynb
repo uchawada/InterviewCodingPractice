{
 "cells": [
  {
   "cell_type": "code",
   "execution_count": 3,
   "id": "5e364a87",
   "metadata": {},
   "outputs": [],
   "source": [
    "def main(**kwargs):\n",
    "    for k, v in kwargs.items():\n",
    "        print(k, v)"
   ]
  },
  {
   "cell_type": "code",
   "execution_count": 13,
   "id": "5fd61366",
   "metadata": {},
   "outputs": [
    {
     "name": "stdout",
     "output_type": "stream",
     "text": [
      "{'name': 'Alice', 'age': 30, 'city': 'New York'}\n"
     ]
    }
   ],
   "source": [
    "main(name=\"Alice\", age=30, city=\"New York\")"
   ]
  },
  {
   "cell_type": "code",
   "execution_count": 12,
   "id": "4282b058",
   "metadata": {},
   "outputs": [],
   "source": [
    "def main(**args):\n",
    "    print(args)\n",
    "    "
   ]
  },
  {
   "cell_type": "code",
   "execution_count": 11,
   "id": "c575a8fd",
   "metadata": {},
   "outputs": [
    {
     "name": "stdout",
     "output_type": "stream",
     "text": [
      "('Alice', 30, 'New York')\n"
     ]
    }
   ],
   "source": [
    "main(\"Alice\", 30,\"New York\")"
   ]
  },
  {
   "cell_type": "markdown",
   "id": "99718e35",
   "metadata": {},
   "source": [
    "#### 20.\tWrite a one-liner that will count the number of capital letters in a file. Your code should work even if the file is too big to fit in memory."
   ]
  },
  {
   "cell_type": "code",
   "execution_count": 16,
   "id": "870bc37b",
   "metadata": {},
   "outputs": [],
   "source": [
    "filename = 'file.txt'"
   ]
  },
  {
   "cell_type": "code",
   "execution_count": 15,
   "id": "52288051",
   "metadata": {},
   "outputs": [],
   "source": [
    "with open(filename, 'w') as f:\n",
    "    f.write(\"This is the First Line.\\n\")\n",
    "    f.write(\"Here is the Second line!\\n\")\n",
    "    f.write(\"third line with some UPPERCASE letters.\\n\")\n",
    "    f.write(\"Final line, with Numbers 123 and symbols #$%.\\n\")\n"
   ]
  },
  {
   "cell_type": "code",
   "execution_count": 21,
   "id": "96cf5665",
   "metadata": {},
   "outputs": [
    {
     "data": {
      "text/plain": [
       "16"
      ]
     },
     "execution_count": 21,
     "metadata": {},
     "output_type": "execute_result"
    }
   ],
   "source": [
    "sum(1 for line in open(filename, 'r') for char in line if char.isupper())"
   ]
  },
  {
   "cell_type": "markdown",
   "id": "5136dba5",
   "metadata": {},
   "source": [
    "#### 22.\tHow can you randomize the items of a list in place in Python?"
   ]
  },
  {
   "cell_type": "code",
   "execution_count": 22,
   "id": "08c52b5f",
   "metadata": {},
   "outputs": [],
   "source": [
    "l1 = [1,2,3,4,5]"
   ]
  },
  {
   "cell_type": "code",
   "execution_count": 23,
   "id": "8b41bb36",
   "metadata": {},
   "outputs": [],
   "source": [
    "import random"
   ]
  },
  {
   "cell_type": "code",
   "execution_count": 29,
   "id": "c95eaf8e",
   "metadata": {},
   "outputs": [
    {
     "data": {
      "text/plain": [
       "[2, 4, 3, 1, 5]"
      ]
     },
     "execution_count": 29,
     "metadata": {},
     "output_type": "execute_result"
    }
   ],
   "source": [
    "random.shuffle(l1)\n",
    "l1"
   ]
  },
  {
   "cell_type": "code",
   "execution_count": 31,
   "id": "c191368f",
   "metadata": {},
   "outputs": [
    {
     "name": "stdout",
     "output_type": "stream",
     "text": [
      "  5           0 LOAD_FAST                0 (n)\n",
      "              2 LOAD_CONST               1 (1)\n",
      "              4 COMPARE_OP               1 (<=)\n",
      "              6 POP_JUMP_IF_FALSE       12\n",
      "\n",
      "  6           8 LOAD_FAST                0 (n)\n",
      "             10 RETURN_VALUE\n",
      "\n",
      "  8     >>   12 LOAD_FAST                0 (n)\n",
      "             14 LOAD_GLOBAL              0 (recursive_sum)\n",
      "             16 LOAD_FAST                0 (n)\n",
      "             18 LOAD_CONST               1 (1)\n",
      "             20 BINARY_SUBTRACT\n",
      "             22 CALL_FUNCTION            1\n",
      "             24 BINARY_ADD\n",
      "             26 RETURN_VALUE\n",
      "             28 LOAD_CONST               0 (None)\n",
      "             30 RETURN_VALUE\n"
     ]
    }
   ],
   "source": [
    "import dis\n",
    "\n",
    "# Function to return the sum of recursive numbers\n",
    "def recursive_sum(n):\n",
    "\tif n <= 1:\n",
    "\t\treturn n\n",
    "\telse:\n",
    "\t\treturn n + recursive_sum(n-1)\n",
    "\n",
    "# change this value for a different result\n",
    "number = 40\n",
    "\n",
    "if number < 0:\n",
    "\tprint(\"The sum = \",recursive_sum(number))\n",
    "\n",
    "# By using dis module, the bytecode is loaded into machine code, and a piece of code that reads each instruction in the bytecode and executes whatever operation is indicated. \n",
    "dis.dis(recursive_sum)"
   ]
  },
  {
   "cell_type": "markdown",
   "id": "e76566e7",
   "metadata": {},
   "source": [
    "### Merge sort"
   ]
  },
  {
   "cell_type": "code",
   "execution_count": null,
   "id": "d61ea5b7",
   "metadata": {},
   "outputs": [],
   "source": [
    "arr = [8, 2, 5, 3, 4, 7, 6, 1]"
   ]
  },
  {
   "cell_type": "code",
   "execution_count": 33,
   "id": "18750702",
   "metadata": {},
   "outputs": [],
   "source": [
    "def merge_sort():\n",
    "    arr_len = len(arr)\n",
    "    # base case\n",
    "    if arr_len <=1:\n",
    "        return\n",
    "    mid = arr_len//2\n",
    "    left_arr = arr[:mid]\n",
    "    right_arr = arr[mid:]\n",
    "    \n",
    "    merge_sort(left_arr)\n",
    "    merge_sort(right_arr)\n",
    "    merge(left_arr, right_arr, arr)"
   ]
  },
  {
   "cell_type": "code",
   "execution_count": null,
   "id": "c5ee91c1",
   "metadata": {},
   "outputs": [],
   "source": [
    "def merge(left_arr, right_arr, arr):\n",
    "    pass"
   ]
  }
 ],
 "metadata": {
  "kernelspec": {
   "display_name": "Python 3 (ipykernel)",
   "language": "python",
   "name": "python3"
  },
  "language_info": {
   "codemirror_mode": {
    "name": "ipython",
    "version": 3
   },
   "file_extension": ".py",
   "mimetype": "text/x-python",
   "name": "python",
   "nbconvert_exporter": "python",
   "pygments_lexer": "ipython3",
   "version": "3.9.7"
  }
 },
 "nbformat": 4,
 "nbformat_minor": 5
}
