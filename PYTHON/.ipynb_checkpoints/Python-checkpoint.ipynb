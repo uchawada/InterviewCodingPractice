{
 "cells": [
  {
   "cell_type": "code",
   "execution_count": 3,
   "id": "3ee1cb8c",
   "metadata": {},
   "outputs": [],
   "source": [
    "def main(**kwargs):\n",
    "    for k, v in kwargs.items():\n",
    "        print(k, v)"
   ]
  },
  {
   "cell_type": "code",
   "execution_count": 13,
   "id": "8727c22f",
   "metadata": {},
   "outputs": [
    {
     "name": "stdout",
     "output_type": "stream",
     "text": [
      "{'name': 'Alice', 'age': 30, 'city': 'New York'}\n"
     ]
    }
   ],
   "source": [
    "main(name=\"Alice\", age=30, city=\"New York\")"
   ]
  },
  {
   "cell_type": "code",
   "execution_count": 12,
   "id": "ca4a10b1",
   "metadata": {},
   "outputs": [],
   "source": [
    "def main(**args):\n",
    "    print(args)\n",
    "    "
   ]
  },
  {
   "cell_type": "code",
   "execution_count": 11,
   "id": "326a8d8e",
   "metadata": {},
   "outputs": [
    {
     "name": "stdout",
     "output_type": "stream",
     "text": [
      "('Alice', 30, 'New York')\n"
     ]
    }
   ],
   "source": [
    "main(\"Alice\", 30,\"New York\")"
   ]
  },
  {
   "cell_type": "markdown",
   "id": "e3a89f9f",
   "metadata": {},
   "source": [
    "#### 20.\tWrite a one-liner that will count the number of capital letters in a file. Your code should work even if the file is too big to fit in memory."
   ]
  },
  {
   "cell_type": "code",
   "execution_count": 16,
   "id": "25b0bea5",
   "metadata": {},
   "outputs": [],
   "source": [
    "filename = 'file.txt'"
   ]
  },
  {
   "cell_type": "code",
   "execution_count": 15,
   "id": "d7241b53",
   "metadata": {},
   "outputs": [],
   "source": [
    "with open(filename, 'w') as f:\n",
    "    f.write(\"This is the First Line.\\n\")\n",
    "    f.write(\"Here is the Second line!\\n\")\n",
    "    f.write(\"third line with some UPPERCASE letters.\\n\")\n",
    "    f.write(\"Final line, with Numbers 123 and symbols #$%.\\n\")\n"
   ]
  },
  {
   "cell_type": "code",
   "execution_count": 21,
   "id": "98f7198c",
   "metadata": {},
   "outputs": [
    {
     "data": {
      "text/plain": [
       "16"
      ]
     },
     "execution_count": 21,
     "metadata": {},
     "output_type": "execute_result"
    }
   ],
   "source": [
    "sum(1 for line in open(filename, 'r') for char in line if char.isupper())"
   ]
  },
  {
   "cell_type": "markdown",
   "id": "255ca6c0",
   "metadata": {},
   "source": [
    "#### 22.\tHow can you randomize the items of a list in place in Python?"
   ]
  },
  {
   "cell_type": "code",
   "execution_count": 22,
   "id": "feb94605",
   "metadata": {},
   "outputs": [],
   "source": [
    "l1 = [1,2,3,4,5]"
   ]
  },
  {
   "cell_type": "code",
   "execution_count": 23,
   "id": "0a5f37d2",
   "metadata": {},
   "outputs": [],
   "source": [
    "import random"
   ]
  },
  {
   "cell_type": "code",
   "execution_count": 29,
   "id": "beb8c6e4",
   "metadata": {},
   "outputs": [
    {
     "data": {
      "text/plain": [
       "[2, 4, 3, 1, 5]"
      ]
     },
     "execution_count": 29,
     "metadata": {},
     "output_type": "execute_result"
    }
   ],
   "source": [
    "random.shuffle(l1)\n",
    "l1"
   ]
  },
  {
   "cell_type": "code",
   "execution_count": 31,
   "id": "abee5c60",
   "metadata": {},
   "outputs": [
    {
     "name": "stdout",
     "output_type": "stream",
     "text": [
      "  5           0 LOAD_FAST                0 (n)\n",
      "              2 LOAD_CONST               1 (1)\n",
      "              4 COMPARE_OP               1 (<=)\n",
      "              6 POP_JUMP_IF_FALSE       12\n",
      "\n",
      "  6           8 LOAD_FAST                0 (n)\n",
      "             10 RETURN_VALUE\n",
      "\n",
      "  8     >>   12 LOAD_FAST                0 (n)\n",
      "             14 LOAD_GLOBAL              0 (recursive_sum)\n",
      "             16 LOAD_FAST                0 (n)\n",
      "             18 LOAD_CONST               1 (1)\n",
      "             20 BINARY_SUBTRACT\n",
      "             22 CALL_FUNCTION            1\n",
      "             24 BINARY_ADD\n",
      "             26 RETURN_VALUE\n",
      "             28 LOAD_CONST               0 (None)\n",
      "             30 RETURN_VALUE\n"
     ]
    }
   ],
   "source": [
    "import dis\n",
    "\n",
    "# Function to return the sum of recursive numbers\n",
    "def recursive_sum(n):\n",
    "\tif n <= 1:\n",
    "\t\treturn n\n",
    "\telse:\n",
    "\t\treturn n + recursive_sum(n-1)\n",
    "\n",
    "# change this value for a different result\n",
    "number = 40\n",
    "\n",
    "if number < 0:\n",
    "\tprint(\"The sum = \",recursive_sum(number))\n",
    "\n",
    "# By using dis module, the bytecode is loaded into machine code, and a piece of code that reads each instruction in the bytecode and executes whatever operation is indicated. \n",
    "dis.dis(recursive_sum)"
   ]
  },
  {
   "cell_type": "markdown",
   "id": "bab5cac5",
   "metadata": {},
   "source": [
    "### Merge sort"
   ]
  },
  {
   "cell_type": "code",
   "execution_count": 371,
   "id": "14d2ee7f",
   "metadata": {},
   "outputs": [],
   "source": [
    "arr = [8, 2, 5, 3, 4, 7, 6, 1]"
   ]
  },
  {
   "cell_type": "code",
   "execution_count": 132,
   "id": "fa0c0924",
   "metadata": {},
   "outputs": [],
   "source": [
    "def merge_sort(arr):\n",
    "    arr_len = len(arr)\n",
    "    # base case\n",
    "    if arr_len <=1:\n",
    "        return\n",
    "    \n",
    "    mid = arr_len//2\n",
    "    left_arr = arr[:mid]\n",
    "    right_arr = arr[mid:]\n",
    "\n",
    "    merge_sort(left_arr)\n",
    "    merge_sort(right_arr)\n",
    "    \n",
    "    print(f\"Merging left {left_arr} and right {right_arr}\")\n",
    "    return merge(left_arr, right_arr, arr)\n",
    "    "
   ]
  },
  {
   "cell_type": "code",
   "execution_count": 133,
   "id": "ff4e90b7",
   "metadata": {},
   "outputs": [],
   "source": [
    "def merge(left, right, arr):\n",
    "    sorted_arr = arr\n",
    "    i = j = k = 0\n",
    "    while i < len(left) and j < len(right):\n",
    "        if left[i] < right[j]:\n",
    "            sorted_arr[k] = left[i]\n",
    "            i += 1\n",
    "        else:\n",
    "            sorted_arr[k] = right[j]\n",
    "            j += 1\n",
    "        k += 1\n",
    "\n",
    "    while i < len(left):\n",
    "        sorted_arr[k] = left[i]\n",
    "        i+=1\n",
    "        k+=1\n",
    "    while j < len(right):\n",
    "        sorted_arr[k] = right[j]\n",
    "        j+=1\n",
    "        k+=1\n",
    "    \n",
    "    return sorted_arr\n",
    "\n",
    "    "
   ]
  },
  {
   "cell_type": "code",
   "execution_count": 134,
   "id": "034439bc",
   "metadata": {
    "scrolled": true
   },
   "outputs": [
    {
     "name": "stdout",
     "output_type": "stream",
     "text": [
      "Merging left [1] and right [2]\n",
      "Merging left [3] and right [4]\n",
      "Merging left [1, 2] and right [3, 4]\n",
      "Merging left [5] and right [6]\n",
      "Merging left [7] and right [8]\n",
      "Merging left [5, 6] and right [7, 8]\n",
      "Merging left [1, 2, 3, 4] and right [5, 6, 7, 8]\n"
     ]
    },
    {
     "data": {
      "text/plain": [
       "[1, 2, 3, 4, 5, 6, 7, 8]"
      ]
     },
     "execution_count": 134,
     "metadata": {},
     "output_type": "execute_result"
    }
   ],
   "source": [
    "merge_sort(arr)"
   ]
  },
  {
   "cell_type": "markdown",
   "id": "18f345a7",
   "metadata": {},
   "source": [
    "### pickling"
   ]
  },
  {
   "cell_type": "code",
   "execution_count": 138,
   "id": "56ff786e",
   "metadata": {},
   "outputs": [],
   "source": [
    "import pickle"
   ]
  },
  {
   "cell_type": "code",
   "execution_count": 139,
   "id": "00e8b34b",
   "metadata": {},
   "outputs": [],
   "source": [
    "data = {'name': 'Alice', 'age': 25}\n",
    "with open('data.pkl', 'wb') as file:\n",
    "    pickle.dump(data, file)  # Pickling the object"
   ]
  },
  {
   "cell_type": "code",
   "execution_count": 143,
   "id": "a2b0d670",
   "metadata": {},
   "outputs": [
    {
     "name": "stdout",
     "output_type": "stream",
     "text": [
      "{'name': 'Alice', 'age': 25}\n"
     ]
    }
   ],
   "source": [
    "with open('data.pkl', 'rb') as f:\n",
    "    print(pickle.load(f))\n",
    "#     print(f.read())"
   ]
  },
  {
   "cell_type": "markdown",
   "id": "b414cbbb",
   "metadata": {},
   "source": [
    "### Mapping"
   ]
  },
  {
   "cell_type": "code",
   "execution_count": 242,
   "id": "21493edd",
   "metadata": {},
   "outputs": [],
   "source": [
    "def add_2(n):\n",
    "    return n + 2"
   ]
  },
  {
   "cell_type": "code",
   "execution_count": 243,
   "id": "b0cbe060",
   "metadata": {},
   "outputs": [
    {
     "name": "stdout",
     "output_type": "stream",
     "text": [
      "[3, 4, 5, 6]\n"
     ]
    }
   ],
   "source": [
    "print(list(map(add_2, [1,2,3,4])))"
   ]
  },
  {
   "cell_type": "markdown",
   "id": "433217e4",
   "metadata": {},
   "source": [
    "### Numpy"
   ]
  },
  {
   "cell_type": "code",
   "execution_count": 244,
   "id": "15c8c532",
   "metadata": {},
   "outputs": [],
   "source": [
    "# get indices for n maximum values in numpy array"
   ]
  },
  {
   "cell_type": "code",
   "execution_count": 245,
   "id": "083cabf0",
   "metadata": {},
   "outputs": [],
   "source": [
    "import numpy as np"
   ]
  },
  {
   "cell_type": "code",
   "execution_count": 246,
   "id": "2104ec48",
   "metadata": {},
   "outputs": [],
   "source": [
    "n = 3\n",
    "arr = np.array([8, 1, 5, 6, 4, 3, 2, 7])"
   ]
  },
  {
   "cell_type": "code",
   "execution_count": 247,
   "id": "fae9c94f",
   "metadata": {
    "scrolled": true
   },
   "outputs": [
    {
     "data": {
      "text/plain": [
       "array([1, 6, 5, 4, 2, 3, 7, 0], dtype=int64)"
      ]
     },
     "execution_count": 247,
     "metadata": {},
     "output_type": "execute_result"
    }
   ],
   "source": [
    "np.argsort(arr)"
   ]
  },
  {
   "cell_type": "code",
   "execution_count": 248,
   "id": "c89205a5",
   "metadata": {},
   "outputs": [
    {
     "data": {
      "text/plain": [
       "array([3, 7, 0], dtype=int64)"
      ]
     },
     "execution_count": 248,
     "metadata": {},
     "output_type": "execute_result"
    }
   ],
   "source": [
    "np.argsort(arr)[-n:]"
   ]
  },
  {
   "cell_type": "markdown",
   "id": "546bfdbf",
   "metadata": {},
   "source": [
    "### 38. calculating percentiles"
   ]
  },
  {
   "cell_type": "code",
   "execution_count": 249,
   "id": "1fd22e4a",
   "metadata": {},
   "outputs": [
    {
     "data": {
      "text/plain": [
       "array([2.75, 4.5 , 6.25])"
      ]
     },
     "execution_count": 249,
     "metadata": {},
     "output_type": "execute_result"
    }
   ],
   "source": [
    "np.percentile(arr, [25, 50, 75])"
   ]
  },
  {
   "cell_type": "code",
   "execution_count": 250,
   "id": "31bc8348",
   "metadata": {},
   "outputs": [],
   "source": [
    "data = np.array([10, 20, 30, 40, 50])"
   ]
  },
  {
   "cell_type": "code",
   "execution_count": 251,
   "id": "0a464341",
   "metadata": {
    "scrolled": true
   },
   "outputs": [
    {
     "data": {
      "text/plain": [
       "30.0"
      ]
     },
     "execution_count": 251,
     "metadata": {},
     "output_type": "execute_result"
    }
   ],
   "source": [
    "np.percentile(data, 50)"
   ]
  },
  {
   "cell_type": "markdown",
   "id": "4b559d3f",
   "metadata": {},
   "source": [
    "### 40. Use of decorators "
   ]
  },
  {
   "cell_type": "code",
   "execution_count": 252,
   "id": "6ea2302c",
   "metadata": {},
   "outputs": [],
   "source": [
    "def logger(function):\n",
    "    def n():\n",
    "        print(\"This is a decorator.\\nWill execute the function\")\n",
    "        function()\n",
    "    return n\n",
    "    \n",
    "\n",
    "@logger\n",
    "def main():\n",
    "    print(\"Hello world\")"
   ]
  },
  {
   "cell_type": "code",
   "execution_count": 253,
   "id": "50d4416b",
   "metadata": {},
   "outputs": [
    {
     "name": "stdout",
     "output_type": "stream",
     "text": [
      "This is a decorator.\n",
      "Will execute the function\n",
      "Hello world\n"
     ]
    }
   ],
   "source": [
    "main()"
   ]
  },
  {
   "cell_type": "code",
   "execution_count": 254,
   "id": "028223e3",
   "metadata": {},
   "outputs": [
    {
     "name": "stdout",
     "output_type": "stream",
     "text": [
      "[8 1 5 6 4 3 2 7]\n",
      "[10  3  7  8  6  5  4  9]\n",
      "[64  1 25 36 16  9  4 49]\n"
     ]
    }
   ],
   "source": [
    "print(arr)\n",
    "print(arr+2)\n",
    "print(arr ** 2)"
   ]
  },
  {
   "cell_type": "code",
   "execution_count": 262,
   "id": "8241b5f4",
   "metadata": {},
   "outputs": [
    {
     "data": {
      "text/plain": [
       "2.29128784747792"
      ]
     },
     "execution_count": 262,
     "metadata": {},
     "output_type": "execute_result"
    }
   ],
   "source": [
    "np.std(arr)"
   ]
  },
  {
   "cell_type": "code",
   "execution_count": 263,
   "id": "e86f3aa0",
   "metadata": {},
   "outputs": [],
   "source": [
    "n_arr = list(arr)"
   ]
  },
  {
   "cell_type": "code",
   "execution_count": 264,
   "id": "98762c86",
   "metadata": {},
   "outputs": [],
   "source": [
    "n_arr.reverse()"
   ]
  },
  {
   "cell_type": "code",
   "execution_count": 265,
   "id": "21053a17",
   "metadata": {},
   "outputs": [
    {
     "name": "stdout",
     "output_type": "stream",
     "text": [
      "[8 1 5 6 4 3 2 7]\n",
      "[7, 2, 3, 4, 6, 5, 1, 8]\n"
     ]
    }
   ],
   "source": [
    "print(arr)\n",
    "print(n_arr)"
   ]
  },
  {
   "cell_type": "code",
   "execution_count": 268,
   "id": "a609cfb9",
   "metadata": {},
   "outputs": [
    {
     "data": {
      "text/plain": [
       "[7, 2, 3, 4, 6, 5, 1, 8]"
      ]
     },
     "execution_count": 268,
     "metadata": {},
     "output_type": "execute_result"
    }
   ],
   "source": [
    "n_arr"
   ]
  },
  {
   "cell_type": "code",
   "execution_count": 269,
   "id": "dc48fe05",
   "metadata": {},
   "outputs": [
    {
     "data": {
      "text/plain": [
       "[8, 1, 5, 6, 4, 3, 2, 7]"
      ]
     },
     "execution_count": 269,
     "metadata": {},
     "output_type": "execute_result"
    }
   ],
   "source": [
    "n_arr[::-1]"
   ]
  },
  {
   "cell_type": "code",
   "execution_count": 270,
   "id": "2d4e5a76",
   "metadata": {},
   "outputs": [
    {
     "data": {
      "text/plain": [
       "[7, 2, 3, 4, 6, 5, 1, 8]"
      ]
     },
     "execution_count": 270,
     "metadata": {},
     "output_type": "execute_result"
    }
   ],
   "source": [
    "n_arr"
   ]
  },
  {
   "cell_type": "code",
   "execution_count": 271,
   "id": "a6b7c7f5",
   "metadata": {},
   "outputs": [
    {
     "data": {
      "text/plain": [
       "8"
      ]
     },
     "execution_count": 271,
     "metadata": {},
     "output_type": "execute_result"
    }
   ],
   "source": [
    "n_arr.pop()"
   ]
  },
  {
   "cell_type": "code",
   "execution_count": 272,
   "id": "eb0101af",
   "metadata": {},
   "outputs": [
    {
     "data": {
      "text/plain": [
       "[7, 2, 3, 4, 6, 5, 1]"
      ]
     },
     "execution_count": 272,
     "metadata": {},
     "output_type": "execute_result"
    }
   ],
   "source": [
    "n_arr"
   ]
  },
  {
   "cell_type": "markdown",
   "id": "4f566c8d",
   "metadata": {},
   "source": [
    "### Find overlapping rectangles"
   ]
  },
  {
   "cell_type": "code",
   "execution_count": 289,
   "id": "63a9f84e",
   "metadata": {},
   "outputs": [],
   "source": [
    "class Point(object):\n",
    "    def __init__(self, x, y):\n",
    "        self.x = x\n",
    "        self.y = y\n",
    "    \n",
    "    def __repr__(self):\n",
    "        return f\"X: {self.x}\\nY: {self.y}\\n\""
   ]
  },
  {
   "cell_type": "code",
   "execution_count": 316,
   "id": "177d080d",
   "metadata": {},
   "outputs": [],
   "source": [
    "r1 = [Point(1,6), Point(5,2)]\n",
    "r2 = [Point(4,8), Point(7,4)]"
   ]
  },
  {
   "cell_type": "code",
   "execution_count": 357,
   "id": "be462b19",
   "metadata": {},
   "outputs": [],
   "source": [
    "def overlap(r1, r2):\n",
    "    r1_p1 = r1[0]\n",
    "    r1_p2 = r1[1]\n",
    "    \n",
    "    r2_p1 = r2[0]\n",
    "    r2_p2 = r2[1]\n",
    "    \n",
    "    if r1_p1.x < r2_p1.x and r1_p2.x > r2_p1.x: # triangle A is on the left of B\n",
    "        return True\n",
    "    if r1_p1.x > r2_p1.x and r1_p1.x < r2_p2.x: # if triangle A is on the right of B, check point 1.x of B with point 2.x of A\n",
    "        return True\n",
    "    if (r1_p1.y > r2_p1.y and r1_p2.y < r2_p1.y) or (r1_p1.y < r2_p1.y and r1_p1.y > r2_p2.y): # triangle A above triangle B\n",
    "        return True\n",
    "    else:\n",
    "        return False\n"
   ]
  },
  {
   "cell_type": "code",
   "execution_count": 358,
   "id": "0426dd2c",
   "metadata": {},
   "outputs": [],
   "source": [
    "r1 = [Point(1,7), Point(2,3)]\n",
    "r2 = [Point(1,4), Point(2,1)]"
   ]
  },
  {
   "cell_type": "code",
   "execution_count": 359,
   "id": "9f2bb86c",
   "metadata": {},
   "outputs": [
    {
     "data": {
      "text/plain": [
       "True"
      ]
     },
     "execution_count": 359,
     "metadata": {},
     "output_type": "execute_result"
    }
   ],
   "source": [
    "overlap(r2, r1)"
   ]
  },
  {
   "cell_type": "markdown",
   "id": "28a299c0",
   "metadata": {},
   "source": [
    "### angle between hour and minute hand"
   ]
  },
  {
   "cell_type": "markdown",
   "id": "37775db4",
   "metadata": {},
   "source": [
    "```\n",
    "360 degrees in a clock\n",
    "\n",
    "hour hand: degrees per hour, 360/12 = 30\n",
    "hour hand: degrees per minute 30/60 = 0.5\n",
    "    \n",
    "min hand: degrees per hour: 360/1 = 360\n",
    "min hand: degrees per minute: 360/60 = 6```\n",
    "    "
   ]
  },
  {
   "cell_type": "code",
   "execution_count": 368,
   "id": "c40bc339",
   "metadata": {},
   "outputs": [],
   "source": [
    "def find_angle(hour, minute):\n",
    "    hour_degree = (hour * 30) + (minute * 0.5)\n",
    "    minute_degree = (minute * 6)\n",
    "    diff = hour_degree - minute_degree\n",
    "    if diff == 360:\n",
    "        return 0\n",
    "    return abs(diff)\n",
    "    "
   ]
  },
  {
   "cell_type": "code",
   "execution_count": 370,
   "id": "80c82649",
   "metadata": {},
   "outputs": [
    {
     "data": {
      "text/plain": [
       "7.5"
      ]
     },
     "execution_count": 370,
     "metadata": {},
     "output_type": "execute_result"
    }
   ],
   "source": [
    "find_angle(3, 15)"
   ]
  },
  {
   "cell_type": "markdown",
   "id": "61944830",
   "metadata": {},
   "source": [
    "### counting inversions using merge sort"
   ]
  },
  {
   "cell_type": "code",
   "execution_count": 414,
   "id": "8e494d44",
   "metadata": {},
   "outputs": [],
   "source": [
    "def merge(left, right, arr):\n",
    "    inc_count = 0\n",
    "    sorted_arr = arr\n",
    "    i = j = k = 0\n",
    "    while i < len(left) and j < len(right):\n",
    "        if left[i] < right[j]:\n",
    "            sorted_arr[k] = left[i]\n",
    "            i += 1\n",
    "        else:\n",
    "            sorted_arr[k] = right[j]\n",
    "            inc_count += len(left[i-1:])\n",
    "            j += 1\n",
    "        k += 1\n",
    "\n",
    "    while i < len(left):\n",
    "        sorted_arr[k] = left[i]\n",
    "        i+=1\n",
    "        k+=1\n",
    "    while j < len(right):\n",
    "        sorted_arr[k] = right[j]\n",
    "        j+=1\n",
    "        k+=1\n",
    "    return sorted_arr, inc_count\n"
   ]
  },
  {
   "cell_type": "code",
   "execution_count": 417,
   "id": "de48ee7a",
   "metadata": {},
   "outputs": [],
   "source": [
    "def merge_sort(arr):\n",
    "    inc_count = 0\n",
    "    arr_len = len(arr)\n",
    "    # base case\n",
    "    if arr_len <=1:\n",
    "        return\n",
    "    \n",
    "    mid = arr_len//2\n",
    "    left_arr = arr[:mid]\n",
    "    right_arr = arr[mid:]\n",
    "\n",
    "    merge_sort(left_arr)\n",
    "    merge_sort(right_arr)\n",
    "    \n",
    "#     print(f\"Merging left {left_arr} and right {right_arr}\")\n",
    "    sorted_arr, count = merge(left_arr, right_arr, arr)\n",
    "    inc_count += count\n",
    "    print(inc_count)\n",
    "    return merge(left_arr, right_arr, arr)\n",
    "    "
   ]
  },
  {
   "cell_type": "code",
   "execution_count": 418,
   "id": "d7cb7fe4",
   "metadata": {},
   "outputs": [
    {
     "name": "stdout",
     "output_type": "stream",
     "text": [
      "1\n",
      "1\n",
      "4\n",
      "0\n",
      "1\n",
      "3\n",
      "8\n"
     ]
    },
    {
     "data": {
      "text/plain": [
       "([1, 2, 3, 4, 5, 6, 7, 8], 8)"
      ]
     },
     "execution_count": 418,
     "metadata": {},
     "output_type": "execute_result"
    }
   ],
   "source": [
    "arr = [8, 2, 5, 3, 4, 7, 6, 1]\n",
    "merge_sort(arr)"
   ]
  },
  {
   "cell_type": "markdown",
   "id": "00619def",
   "metadata": {},
   "source": [
    "### find the missing number"
   ]
  },
  {
   "cell_type": "code",
   "execution_count": 27,
   "id": "c690bea3",
   "metadata": {},
   "outputs": [],
   "source": [
    "n = 999\n",
    "arr = list(range(1,n))"
   ]
  },
  {
   "cell_type": "code",
   "execution_count": 28,
   "id": "ba53c8a4",
   "metadata": {},
   "outputs": [],
   "source": [
    "arr.remove(185)"
   ]
  },
  {
   "cell_type": "code",
   "execution_count": 29,
   "id": "f2101f0d",
   "metadata": {},
   "outputs": [
    {
     "name": "stdout",
     "output_type": "stream",
     "text": [
      "missing number 185\n"
     ]
    }
   ],
   "source": [
    "i = 0\n",
    "while i < len(arr)-1:\n",
    "    if arr[i+1] - arr[i] != 1:\n",
    "        print(f\"missing number {arr[i]+1}\")\n",
    "        break\n",
    "    i += 1"
   ]
  },
  {
   "cell_type": "code",
   "execution_count": 30,
   "id": "f208adde",
   "metadata": {},
   "outputs": [
    {
     "data": {
      "text/plain": [
       "500500"
      ]
     },
     "execution_count": 30,
     "metadata": {},
     "output_type": "execute_result"
    }
   ],
   "source": [
    "s = ((n+1)*(n+2))//2\n",
    "s"
   ]
  },
  {
   "cell_type": "code",
   "execution_count": 31,
   "id": "d4f409d4",
   "metadata": {},
   "outputs": [
    {
     "data": {
      "text/plain": [
       "498316"
      ]
     },
     "execution_count": 31,
     "metadata": {},
     "output_type": "execute_result"
    }
   ],
   "source": [
    "sum(arr)"
   ]
  },
  {
   "cell_type": "code",
   "execution_count": 32,
   "id": "7d7e0eda",
   "metadata": {},
   "outputs": [
    {
     "data": {
      "text/plain": [
       "-2184"
      ]
     },
     "execution_count": 32,
     "metadata": {},
     "output_type": "execute_result"
    }
   ],
   "source": [
    "sum(arr) - s"
   ]
  },
  {
   "cell_type": "markdown",
   "id": "aaeb0b53",
   "metadata": {},
   "source": [
    "### x raised to the power n"
   ]
  },
  {
   "cell_type": "code",
   "execution_count": 46,
   "id": "8a0b1e5a",
   "metadata": {},
   "outputs": [],
   "source": [
    "x = 2\n",
    "n = 5"
   ]
  },
  {
   "cell_type": "code",
   "execution_count": 66,
   "id": "8aa21b33",
   "metadata": {},
   "outputs": [],
   "source": [
    "def power(x, n):\n",
    "    total = 1\n",
    "    for i in range(1,n+1):\n",
    "        total *= x\n",
    "    print(total)\n"
   ]
  },
  {
   "cell_type": "code",
   "execution_count": 67,
   "id": "b9101445",
   "metadata": {},
   "outputs": [
    {
     "name": "stdout",
     "output_type": "stream",
     "text": [
      "32\n"
     ]
    }
   ],
   "source": [
    "power(x,n)"
   ]
  },
  {
   "cell_type": "markdown",
   "id": "9a598e04",
   "metadata": {},
   "source": [
    "#### 69: check if substring exists in a dictionary of words"
   ]
  },
  {
   "cell_type": "code",
   "execution_count": 82,
   "id": "7517a880",
   "metadata": {
    "scrolled": false
   },
   "outputs": [
    {
     "name": "stdout",
     "output_type": "stream",
     "text": [
      "False\n"
     ]
    }
   ],
   "source": [
    "def word_break(s, word_dict):\n",
    "    # Initialize a dp array where dp[i] is True if s[0:i] can be segmented\n",
    "    dp = [False] * (len(s) + 1)\n",
    "    dp[0] = True  # Empty string can be segmented\n",
    "    \n",
    "    for i in range(1, len(s) + 1):\n",
    "        for j in range(i):\n",
    "            # Check if s[j:i] is a word and s[0:j] can be segmented\n",
    "            if dp[j] and s[j:i] in word_dict:\n",
    "                dp[i] = True\n",
    "                break  # No need to check further once dp[i] is True\n",
    "    \n",
    "    return dp[len(s)]\n",
    "\n",
    "# Example usage:\n",
    "s = \"leetcode\"\n",
    "word_dict = {\"leet\", \"code\"}\n",
    "print(word_break(s, word_dict))  # Output: True\n"
   ]
  },
  {
   "cell_type": "code",
   "execution_count": null,
   "id": "24a0f81e",
   "metadata": {},
   "outputs": [],
   "source": []
  },
  {
   "cell_type": "code",
   "execution_count": null,
   "id": "959a2abd",
   "metadata": {},
   "outputs": [],
   "source": []
  }
 ],
 "metadata": {
  "kernelspec": {
   "display_name": "Python 3 (ipykernel)",
   "language": "python",
   "name": "python3"
  },
  "language_info": {
   "codemirror_mode": {
    "name": "ipython",
    "version": 3
   },
   "file_extension": ".py",
   "mimetype": "text/x-python",
   "name": "python",
   "nbconvert_exporter": "python",
   "pygments_lexer": "ipython3",
   "version": "3.9.7"
  }
 },
 "nbformat": 4,
 "nbformat_minor": 5
}
