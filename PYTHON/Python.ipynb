{
 "cells": [
  {
   "cell_type": "code",
   "execution_count": 3,
   "id": "09dfbc17",
   "metadata": {},
   "outputs": [],
   "source": [
    "def main(**kwargs):\n",
    "    for k, v in kwargs.items():\n",
    "        print(k, v)"
   ]
  },
  {
   "cell_type": "code",
   "execution_count": 13,
   "id": "019c29dd",
   "metadata": {},
   "outputs": [
    {
     "name": "stdout",
     "output_type": "stream",
     "text": [
      "{'name': 'Alice', 'age': 30, 'city': 'New York'}\n"
     ]
    }
   ],
   "source": [
    "main(name=\"Alice\", age=30, city=\"New York\")"
   ]
  },
  {
   "cell_type": "code",
   "execution_count": 12,
   "id": "7ea2cdab",
   "metadata": {},
   "outputs": [],
   "source": [
    "def main(**args):\n",
    "    print(args)\n",
    "    "
   ]
  },
  {
   "cell_type": "code",
   "execution_count": 11,
   "id": "cae817d5",
   "metadata": {},
   "outputs": [
    {
     "name": "stdout",
     "output_type": "stream",
     "text": [
      "('Alice', 30, 'New York')\n"
     ]
    }
   ],
   "source": [
    "main(\"Alice\", 30,\"New York\")"
   ]
  },
  {
   "cell_type": "markdown",
   "id": "c2ff9ce6",
   "metadata": {},
   "source": [
    "#### 20.\tWrite a one-liner that will count the number of capital letters in a file. Your code should work even if the file is too big to fit in memory."
   ]
  },
  {
   "cell_type": "code",
   "execution_count": 16,
   "id": "acdfce4d",
   "metadata": {},
   "outputs": [],
   "source": [
    "filename = 'file.txt'"
   ]
  },
  {
   "cell_type": "code",
   "execution_count": 15,
   "id": "2d1f2dbf",
   "metadata": {},
   "outputs": [],
   "source": [
    "with open(filename, 'w') as f:\n",
    "    f.write(\"This is the First Line.\\n\")\n",
    "    f.write(\"Here is the Second line!\\n\")\n",
    "    f.write(\"third line with some UPPERCASE letters.\\n\")\n",
    "    f.write(\"Final line, with Numbers 123 and symbols #$%.\\n\")\n"
   ]
  },
  {
   "cell_type": "code",
   "execution_count": 21,
   "id": "c3cffbd7",
   "metadata": {},
   "outputs": [
    {
     "data": {
      "text/plain": [
       "16"
      ]
     },
     "execution_count": 21,
     "metadata": {},
     "output_type": "execute_result"
    }
   ],
   "source": [
    "sum(1 for line in open(filename, 'r') for char in line if char.isupper())"
   ]
  },
  {
   "cell_type": "markdown",
   "id": "9314a431",
   "metadata": {},
   "source": [
    "#### 22.\tHow can you randomize the items of a list in place in Python?"
   ]
  },
  {
   "cell_type": "code",
   "execution_count": 22,
   "id": "cc300b37",
   "metadata": {},
   "outputs": [],
   "source": [
    "l1 = [1,2,3,4,5]"
   ]
  },
  {
   "cell_type": "code",
   "execution_count": 23,
   "id": "23df76f0",
   "metadata": {},
   "outputs": [],
   "source": [
    "import random"
   ]
  },
  {
   "cell_type": "code",
   "execution_count": 29,
   "id": "80ad8532",
   "metadata": {},
   "outputs": [
    {
     "data": {
      "text/plain": [
       "[2, 4, 3, 1, 5]"
      ]
     },
     "execution_count": 29,
     "metadata": {},
     "output_type": "execute_result"
    }
   ],
   "source": [
    "random.shuffle(l1)\n",
    "l1"
   ]
  },
  {
   "cell_type": "code",
   "execution_count": 31,
   "id": "93f4c96b",
   "metadata": {},
   "outputs": [
    {
     "name": "stdout",
     "output_type": "stream",
     "text": [
      "  5           0 LOAD_FAST                0 (n)\n",
      "              2 LOAD_CONST               1 (1)\n",
      "              4 COMPARE_OP               1 (<=)\n",
      "              6 POP_JUMP_IF_FALSE       12\n",
      "\n",
      "  6           8 LOAD_FAST                0 (n)\n",
      "             10 RETURN_VALUE\n",
      "\n",
      "  8     >>   12 LOAD_FAST                0 (n)\n",
      "             14 LOAD_GLOBAL              0 (recursive_sum)\n",
      "             16 LOAD_FAST                0 (n)\n",
      "             18 LOAD_CONST               1 (1)\n",
      "             20 BINARY_SUBTRACT\n",
      "             22 CALL_FUNCTION            1\n",
      "             24 BINARY_ADD\n",
      "             26 RETURN_VALUE\n",
      "             28 LOAD_CONST               0 (None)\n",
      "             30 RETURN_VALUE\n"
     ]
    }
   ],
   "source": [
    "import dis\n",
    "\n",
    "# Function to return the sum of recursive numbers\n",
    "def recursive_sum(n):\n",
    "\tif n <= 1:\n",
    "\t\treturn n\n",
    "\telse:\n",
    "\t\treturn n + recursive_sum(n-1)\n",
    "\n",
    "# change this value for a different result\n",
    "number = 40\n",
    "\n",
    "if number < 0:\n",
    "\tprint(\"The sum = \",recursive_sum(number))\n",
    "\n",
    "# By using dis module, the bytecode is loaded into machine code, and a piece of code that reads each instruction in the bytecode and executes whatever operation is indicated. \n",
    "dis.dis(recursive_sum)"
   ]
  },
  {
   "cell_type": "markdown",
   "id": "239ca1f7",
   "metadata": {},
   "source": [
    "### Merge sort"
   ]
  },
  {
   "cell_type": "code",
   "execution_count": 128,
   "id": "a20905e9",
   "metadata": {},
   "outputs": [],
   "source": [
    "arr = [8, 2, 5, 3, 4, 7, 6, 1]"
   ]
  },
  {
   "cell_type": "code",
   "execution_count": 132,
   "id": "eaa96d49",
   "metadata": {},
   "outputs": [],
   "source": [
    "def merge_sort(arr):\n",
    "    arr_len = len(arr)\n",
    "    # base case\n",
    "    if arr_len <=1:\n",
    "        return\n",
    "    \n",
    "    mid = arr_len//2\n",
    "    left_arr = arr[:mid]\n",
    "    right_arr = arr[mid:]\n",
    "\n",
    "    merge_sort(left_arr)\n",
    "    merge_sort(right_arr)\n",
    "    \n",
    "    print(f\"Merging left {left_arr} and right {right_arr}\")\n",
    "    return merge(left_arr, right_arr, arr)\n",
    "    "
   ]
  },
  {
   "cell_type": "code",
   "execution_count": 133,
   "id": "9a2c37b5",
   "metadata": {},
   "outputs": [],
   "source": [
    "def merge(left, right, arr):\n",
    "    sorted_arr = arr\n",
    "    i = j = k = 0\n",
    "    while i < len(left) and j < len(right):\n",
    "        if left[i] < right[j]:\n",
    "            sorted_arr[k] = left[i]\n",
    "            i += 1\n",
    "        else:\n",
    "            sorted_arr[k] = right[j]\n",
    "            j += 1\n",
    "        k += 1\n",
    "\n",
    "    while i < len(left):\n",
    "        sorted_arr[k] = left[i]\n",
    "        i+=1\n",
    "        k+=1\n",
    "    while j < len(right):\n",
    "        sorted_arr[k] = right[j]\n",
    "        j+=1\n",
    "        k+=1\n",
    "    \n",
    "    return sorted_arr\n",
    "\n",
    "    "
   ]
  },
  {
   "cell_type": "code",
   "execution_count": 134,
   "id": "b47141ae",
   "metadata": {
    "scrolled": true
   },
   "outputs": [
    {
     "name": "stdout",
     "output_type": "stream",
     "text": [
      "Merging left [1] and right [2]\n",
      "Merging left [3] and right [4]\n",
      "Merging left [1, 2] and right [3, 4]\n",
      "Merging left [5] and right [6]\n",
      "Merging left [7] and right [8]\n",
      "Merging left [5, 6] and right [7, 8]\n",
      "Merging left [1, 2, 3, 4] and right [5, 6, 7, 8]\n"
     ]
    },
    {
     "data": {
      "text/plain": [
       "[1, 2, 3, 4, 5, 6, 7, 8]"
      ]
     },
     "execution_count": 134,
     "metadata": {},
     "output_type": "execute_result"
    }
   ],
   "source": [
    "merge_sort(arr)"
   ]
  },
  {
   "cell_type": "code",
   "execution_count": null,
   "id": "15d363e8",
   "metadata": {},
   "outputs": [],
   "source": []
  },
  {
   "cell_type": "code",
   "execution_count": 60,
   "id": "b97fdb78",
   "metadata": {},
   "outputs": [],
   "source": []
  },
  {
   "cell_type": "code",
   "execution_count": null,
   "id": "ddbfe975",
   "metadata": {},
   "outputs": [],
   "source": []
  }
 ],
 "metadata": {
  "kernelspec": {
   "display_name": "Python 3 (ipykernel)",
   "language": "python",
   "name": "python3"
  },
  "language_info": {
   "codemirror_mode": {
    "name": "ipython",
    "version": 3
   },
   "file_extension": ".py",
   "mimetype": "text/x-python",
   "name": "python",
   "nbconvert_exporter": "python",
   "pygments_lexer": "ipython3",
   "version": "3.9.7"
  }
 },
 "nbformat": 4,
 "nbformat_minor": 5
}
